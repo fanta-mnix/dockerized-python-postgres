{
 "cells": [
  {
   "cell_type": "markdown",
   "metadata": {},
   "source": [
    "# Exploratory Data Analysis of Book Readers"
   ]
  },
  {
   "cell_type": "markdown",
   "metadata": {},
   "source": [
    "## Getting acquainted with the data"
   ]
  },
  {
   "cell_type": "markdown",
   "metadata": {},
   "source": [
    "Before diving into the exercises, let's see the structure of the data in the database."
   ]
  },
  {
   "cell_type": "code",
   "execution_count": null,
   "metadata": {},
   "outputs": [],
   "source": [
    "import os\n",
    "import pandas as pd\n",
    "from sqlalchemy import *\n",
    "from IPython.display import display\n",
    "from source.utils import *\n",
    "\n",
    "def as_generator(iterator):\n",
    "    return (x for x in iterator)\n",
    "\n",
    "def format_results(engine, query):\n",
    "    result_set = engine.execute(query)\n",
    "    return pd.DataFrame(as_generator(result_set), columns=result_set.keys())\n",
    "\n",
    "psql = create_engine('postgresql://postgres:{}@db/postgres'.format(os.environ['POSTGRES_PASSWORD']))\n",
    "\n",
    "metadata = MetaData()\n",
    "metadata.reflect(bind=psql)\n",
    "for table in metadata.sorted_tables:\n",
    "    print(table.name)\n",
    "    for column in table.columns:\n",
    "        print('- {} {}'.format(column.name, column.type))\n",
    "    print('-' * 4)\n",
    "\n",
    "    \n",
    "print(\"\\nDenormalized data:\")\n",
    "format_results(psql,\n",
    "               \"\"\"\n",
    "               SELECT r.visit_id AS reader_id, title, category_one, category_two, country, timezone,\n",
    "                      location_accuracy, tracking_time, created_at\n",
    "               FROM reading r INNER JOIN visits v ON r.visit_id = v.visitor_id\n",
    "               INNER JOIN stories s ON r.story_id = s.id\n",
    "               ORDER BY r.visit_id, r.tracking_time\n",
    "               LIMIT 5\n",
    "               \"\"\")"
   ]
  },
  {
   "cell_type": "markdown",
   "metadata": {},
   "source": [
    "Okay, now let's proceed to the action.\n",
    "\n",
    "## How much reading horror readers did each day\n",
    "**IMPORTANT** Dear reviewer, please refer to [my notes](#Important-Observations) at the end of the notebook for clarification."
   ]
  },
  {
   "cell_type": "code",
   "execution_count": null,
   "metadata": {},
   "outputs": [],
   "source": [
    "import pandas as pd\n",
    "from source.utils import *\n",
    "\n",
    "def as_generator(iterator):\n",
    "    return (x for x in iterator)\n",
    "\n",
    "def format_results(engine, query):\n",
    "    result_set = engine.execute(query)\n",
    "    return pd.DataFrame(as_generator(result_set), columns=result_set.keys())"
   ]
  },
  {
   "cell_type": "markdown",
   "metadata": {},
   "source": [
    "### SQL"
   ]
  },
  {
   "cell_type": "code",
   "execution_count": null,
   "metadata": {},
   "outputs": [],
   "source": [
    "# We have to account for the fact that horror readers can also read other genres\n",
    "n1_sql = format_results(psql,\n",
    "                        \"\"\"\n",
    "                        SELECT date_trunc(\\'day\\', tracking_time) AS date, COUNT(id) AS reads\n",
    "                        FROM reading\n",
    "                        WHERE reading.visit_id IN (\n",
    "                            SELECT DISTINCT r.visit_id\n",
    "                            FROM reading r INNER JOIN stories s ON r.story_id = s.id\n",
    "                            WHERE s.category_one = \\'horror\\' OR s.category_two = \\'horror\\'\n",
    "                        )\n",
    "                        GROUP BY date_trunc(\\'day\\', reading.tracking_time)\n",
    "                        ORDER BY date\n",
    "                        \"\"\")\n",
    "\n",
    "display(n1_sql)"
   ]
  },
  {
   "cell_type": "markdown",
   "metadata": {},
   "source": [
    "### Pandas"
   ]
  },
  {
   "cell_type": "code",
   "execution_count": null,
   "metadata": {},
   "outputs": [],
   "source": [
    "def first(arr):\n",
    "    return arr[0]\n",
    "\n",
    "def truncate_to_day(timestamp):\n",
    "    return first(timestamp.split('T'))\n",
    "\n",
    "visits = pd.read_csv('data/visits.csv')\n",
    "reading = pd.read_csv('data/reading.csv')\n",
    "stories = pd.read_csv('data/stories.csv')\n",
    "\n",
    "reading.tracking_time = reading.tracking_time.apply(truncate_to_day)\n",
    "reading.created_at = reading.created_at.apply(truncate_to_day)\n",
    "\n",
    "horror_stories = stories[(stories.category_one == 'horror') | (stories.category_two == 'horror')]\n",
    "horror_readers = pd.merge(left=reading, right=horror_stories, left_on='story_id', right_on='id').visit_id\n",
    "\n",
    "horror_reading = reading[reading.visit_id.isin(horror_readers)]\n",
    "horror_reading_per_day = horror_reading.groupby('tracking_time').size()\n",
    "\n",
    "n1_pandas = pd.DataFrame({'date': horror_reading_per_day.index, 'readings': horror_reading_per_day.values})\n",
    "display(n1_pandas)"
   ]
  },
  {
   "cell_type": "markdown",
   "metadata": {},
   "source": [
    "### Testing\n",
    "Let's compare the results of both methods, side-by-side."
   ]
  },
  {
   "cell_type": "code",
   "execution_count": null,
   "metadata": {},
   "outputs": [],
   "source": [
    "pd.concat([n1_sql, n1_pandas], axis=1)"
   ]
  },
  {
   "cell_type": "markdown",
   "metadata": {},
   "source": [
    "## How many horror readers are there\n",
    "### SQL"
   ]
  },
  {
   "cell_type": "code",
   "execution_count": null,
   "metadata": {},
   "outputs": [],
   "source": [
    "# We have to account for the fact that horror readers can also read other genres\n",
    "n2_sql = format_results(psql,\n",
    "                \"\"\"\n",
    "                SELECT date_trunc(\\'day\\', reading.tracking_time) AS date, COUNT(DISTINCT visit_id) AS unique_readers\n",
    "                FROM reading\n",
    "                WHERE reading.visit_id IN (\n",
    "                    SELECT DISTINCT r.visit_id\n",
    "                    FROM reading r INNER JOIN stories s ON r.story_id = s.id\n",
    "                    WHERE s.category_one = \\'horror\\' OR s.category_two = \\'horror\\'\n",
    "                )\n",
    "                GROUP BY date_trunc(\\'day\\', reading.tracking_time)\n",
    "                ORDER BY date\n",
    "                \"\"\")\n",
    "\n",
    "display(n2_sql)"
   ]
  },
  {
   "cell_type": "markdown",
   "metadata": {},
   "source": [
    "### Pandas"
   ]
  },
  {
   "cell_type": "code",
   "execution_count": null,
   "metadata": {},
   "outputs": [],
   "source": [
    "def count_unique(x):\n",
    "    return len(set(x))\n",
    "\n",
    "grouped_by_day = horror_reading.groupby('tracking_time')\n",
    "unique_readers_per_day = grouped_by_day.visit_id.agg(count_unique)\n",
    "\n",
    "n2_pandas = pd.DataFrame({'date': unique_readers_per_day.index, 'readings': unique_readers_per_day.values})\n",
    "display(n2_pandas)"
   ]
  },
  {
   "cell_type": "markdown",
   "metadata": {},
   "source": [
    "### Testing\n",
    "Let's compare the results of both methods, side-by-side."
   ]
  },
  {
   "cell_type": "code",
   "execution_count": null,
   "metadata": {},
   "outputs": [],
   "source": [
    "pd.concat([n2_sql, n2_pandas], axis=1)"
   ]
  },
  {
   "cell_type": "markdown",
   "metadata": {},
   "source": [
    "## What countries are the readers from\n",
    "### SQL"
   ]
  },
  {
   "cell_type": "code",
   "execution_count": null,
   "metadata": {},
   "outputs": [],
   "source": [
    "n3_sql = format_results(psql,\n",
    "              \"\"\"\n",
    "              SELECT date_trunc(\\'day\\', reading.tracking_time) AS date, country, COUNT(DISTINCT visit_id) AS reads\n",
    "              FROM reading INNER JOIN visits ON reading.visit_id = visits.visitor_id\n",
    "              WHERE reading.visit_id IN (\n",
    "                SELECT DISTINCT r.visit_id\n",
    "                FROM reading r INNER JOIN stories s ON r.story_id = s.id\n",
    "                WHERE s.category_one = \\'horror\\' OR s.category_two = \\'horror\\'\n",
    "              )\n",
    "              GROUP BY date_trunc(\\'day\\', reading.tracking_time), country\n",
    "              ORDER BY date, country\n",
    "              \"\"\")\n",
    "\n",
    "display(n3_sql)"
   ]
  },
  {
   "cell_type": "markdown",
   "metadata": {},
   "source": [
    "### Pandas"
   ]
  },
  {
   "cell_type": "code",
   "execution_count": null,
   "metadata": {},
   "outputs": [],
   "source": [
    "def transpose(list_tuples):\n",
    "    return list(zip(*list_tuples))\n",
    "\n",
    "grouped_by_day_and_country = pd.merge(left=horror_reading, right=visits, left_on='visit_id', right_on='visitor_id') \\\n",
    "                                .groupby(['tracking_time', 'country'])\n",
    "                                      \n",
    "unique_readers_per_day_country = grouped_by_day_and_country.visit_id.agg(count_unique)\n",
    "dates, countries = transpose(unique_readers_per_day_country.index)\n",
    "\n",
    "n3_pandas = pd.DataFrame({'date': dates,\n",
    "                          'country': countries,\n",
    "                          'readings': unique_readers_per_day_country.values})\n",
    "\n",
    "display(n3_pandas)"
   ]
  },
  {
   "cell_type": "markdown",
   "metadata": {},
   "source": [
    "### Testing\n",
    "Let's compare the results of both methods, side-by-side."
   ]
  },
  {
   "cell_type": "code",
   "execution_count": null,
   "metadata": {},
   "outputs": [],
   "source": [
    "pd.concat([n3_sql, n3_pandas], axis=1)"
   ]
  },
  {
   "cell_type": "markdown",
   "metadata": {},
   "source": [
    "## Notes\n",
    "Looking at the columns `tracking_time` and `created_at` of table `reading`, the values appear to be always the same, Upon further inspection, we can see that this is not always the case, though. Probably, `tracking_time` registers the time when the reading really happened and `created_at` registers the time of inserting into the data, as `created_at` >= `tracking_time` on the data. Events are generated when the user scrolls down while reading a story, and contain the following information:\n",
    "```JSON\n",
    "{\n",
    "    \"events\": [\n",
    "        {\n",
    "            \"id\": \"c0e778e7-522d-47d8-a726-0b4e2ca1fedd\",\n",
    "            \"name\": \"Reading Chapter\",\n",
    "            \"properties\": {\n",
    "                \"storyId\": 18965,\n",
    "                \"chapterNumber\": 2,\n",
    "                \"from\": {}\n",
    "            },\n",
    "            \"time\": 1509148130.507\n",
    "        }\n",
    "    ],\n",
    "    \"visit_token\": \"ca96c8c6-9a51-4bb2-8b14-4f1a5575f18f\",\n",
    "    \"visitor_token\": \"06509f38-4325-45d4-af65-4a8c585e904b\"\n",
    "}\n",
    "```\n",
    "\n",
    "Still on `reading`, it isn't clear which of the fields holds the identity of the reader. It could be either `visitor_id` or `user_id`, judging by the names, but both of them have problems. Inspecting the `visits` table, we can see the same `user_id` associated with **multiples values for `country`**, which would very unlikely in a real setting. On the other side, `visitor_id` cannot be used because there is no overlap between values of `reading.visitor_id` and `visits.visitor_id`, rendering a `JOIN` impossible. However, all is not lost: we can join the tables using `reading.visit_id` and `visit.visitor_id`, which was my choice for the test. See queries below."
   ]
  },
  {
   "cell_type": "code",
   "execution_count": null,
   "metadata": {},
   "outputs": [],
   "source": [
    "print(\"Joining on 'visitor_id' in both tables\")\n",
    "display(format_results(psql, \"SELECT * FROM reading r INNER JOIN visits v ON r.visitor_id=v.visitor_id\"))\n",
    "print(\"\\n\")\n",
    "print(\"Joining on 'reading.visit_id' and 'visits.visitor_id'\")\n",
    "display(format_results(psql, \"SELECT * FROM reading r INNER JOIN visits v ON r.visit_id=v.visitor_id LIMIT 3\"))"
   ]
  },
  {
   "cell_type": "code",
   "execution_count": null,
   "metadata": {
    "collapsed": true
   },
   "outputs": [],
   "source": []
  }
 ],
 "metadata": {
  "kernelspec": {
   "display_name": "Python 3",
   "language": "python",
   "name": "python3"
  },
  "language_info": {
   "codemirror_mode": {
    "name": "ipython",
    "version": 3
   },
   "file_extension": ".py",
   "mimetype": "text/x-python",
   "name": "python",
   "nbconvert_exporter": "python",
   "pygments_lexer": "ipython3",
   "version": "3.6.1"
  }
 },
 "nbformat": 4,
 "nbformat_minor": 2
}
